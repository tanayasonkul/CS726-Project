{
  "nbformat": 4,
  "nbformat_minor": 0,
  "metadata": {
    "colab": {
      "provenance": []
    },
    "kernelspec": {
      "name": "python3",
      "display_name": "Python 3"
    },
    "language_info": {
      "name": "python"
    },
    "accelerator": "GPU",
    "gpuClass": "standard"
  },
  "cells": [
    {
      "cell_type": "markdown",
      "source": [
        "##Importing necessary libraries"
      ],
      "metadata": {
        "id": "ffuhwSmthKsi"
      }
    },
    {
      "cell_type": "code",
      "source": [
        "from __future__ import print_function, division\n",
        "import cv2\n",
        "from keras.layers import LayerNormalization, Input, Dense, Reshape, Flatten, Dropout, Concatenate, BatchNormalization, Activation, ZeroPadding2D, LeakyReLU\n",
        "from keras.layers.convolutional import UpSampling2D, Conv2D\n",
        "from keras.models import Sequential, Model\n",
        "from keras.optimizers import Adam\n",
        "import datetime\n",
        "import matplotlib.pyplot as plt\n",
        "from matplotlib.pyplot import imread\n",
        "import sys\n",
        "import numpy as np\n",
        "import os\n",
        "from glob import glob"
      ],
      "metadata": {
        "id": "7NXnPRNiubaS"
      },
      "execution_count": 32,
      "outputs": []
    },
    {
      "cell_type": "markdown",
      "source": [
        "## Downloading training and testing data"
      ],
      "metadata": {
        "id": "gIxxjhhMhUul"
      }
    },
    {
      "cell_type": "code",
      "source": [
        "!python download_data.py summer2winter_yosemite"
      ],
      "metadata": {
        "id": "mhgdUZYSZW7a"
      },
      "execution_count": 33,
      "outputs": []
    },
    {
      "cell_type": "markdown",
      "source": [
        "## Defining functions"
      ],
      "metadata": {
        "id": "0AuLcl2Zhapi"
      }
    },
    {
      "cell_type": "code",
      "source": [
        "def im_read(path):\n",
        "        return imread(path).astype(float)\n",
        "\n",
        "def load_data(data_dir, domain, batch_size=1,  img_shape = (128,128), is_testing=False):\n",
        "        data_type = \"train%s\" % domain if not is_testing else \"test%s\" % domain\n",
        "        path = glob('./datasets/%s/%s/%s/*' % (data_dir, data_dir, data_type))\n",
        "\n",
        "        batch_images = np.random.choice(path, size=batch_size)\n",
        "\n",
        "        imgs = []\n",
        "        for img_path in batch_images:\n",
        "            img = im_read(img_path)\n",
        "            if not is_testing:\n",
        "                img = cv2.resize(img, img_shape)\n",
        "\n",
        "                if np.random.random() > 0.5:\n",
        "                    img = np.fliplr(img)\n",
        "            else:\n",
        "               img = cv2.resize(img, img_shape)\n",
        "            imgs.append(img)\n",
        "\n",
        "        imgs = np.array(imgs)/127.5 - 1.\n",
        "\n",
        "        return imgs\n",
        "\n",
        "\n",
        "def load_img(path,img_shape = (128,128)):\n",
        "        img = im_read(path)\n",
        "        img = cv2.resize(img, img_shape)\n",
        "        img = img/127.5 - 1.\n",
        "        return img[np.newaxis, :, :, :]\n",
        "\n",
        "def load_batch(data_dir, batch_size=1, is_testing=False,img_shape = (128,128)):\n",
        "        data_type = \"train\" if not is_testing else \"val\"\n",
        "        path_A = glob('./datasets/%s/%s/%sA/*' % (data_dir, data_dir, data_type))\n",
        "        path_B = glob('./datasets/%s/%s/%sB/*' % (data_dir, data_dir, data_type))\n",
        "\n",
        "        n_batches = int(min(len(path_A), len(path_B)) / batch_size)\n",
        "        total_samples = n_batches * batch_size\n",
        "\n",
        "        # Sample n_batches * batch_size from each path list so that model sees all\n",
        "        # samples from both domains\n",
        "        path_A = np.random.choice(path_A, total_samples, replace=False)\n",
        "        path_B = np.random.choice(path_B, total_samples, replace=False)\n",
        "\n",
        "        for i in range(n_batches-1):\n",
        "            batch_A = path_A[i*batch_size:(i+1)*batch_size]\n",
        "            batch_B = path_B[i*batch_size:(i+1)*batch_size]\n",
        "            imgs_A, imgs_B = [], []\n",
        "            for img_A, img_B in zip(batch_A, batch_B):\n",
        "                img_A = im_read(img_A)\n",
        "                img_B = im_read(img_B)\n",
        "\n",
        "                img_A = cv2.resize(img_A, img_shape)\n",
        "                img_B = cv2.resize(img_B, img_shape)\n",
        "\n",
        "                if not is_testing and np.random.random() > 0.5:\n",
        "                        img_A = np.fliplr(img_A)\n",
        "                        img_B = np.fliplr(img_B)\n",
        "\n",
        "                imgs_A.append(img_A)\n",
        "                imgs_B.append(img_B)\n",
        "\n",
        "            imgs_A = np.array(imgs_A)/127.5 - 1.\n",
        "            imgs_B = np.array(imgs_B)/127.5 - 1.\n",
        "\n",
        "            yield imgs_A, imgs_B"
      ],
      "metadata": {
        "id": "0r04svLWhuCL"
      },
      "execution_count": 53,
      "outputs": []
    },
    {
      "cell_type": "code",
      "source": [
        "def build_discriminator(img_shape = (128,128,3)):\n",
        "        def d_layer(layer_input, filters, f_size=4, normalization=True):\n",
        "            \"\"\"Discriminator layer\"\"\"           \n",
        "           \n",
        "            d = Conv2D(filters, kernel_size=f_size, strides=2, padding='same')(layer_input)\n",
        "            d = LeakyReLU(alpha=0.2)(d)\n",
        "            if normalization:\n",
        "                d = LayerNormalization()(d)\n",
        "            return d\n",
        "\n",
        "        img = Input(shape=img_shape)\n",
        "        df = 64\n",
        "        d1 = d_layer(img, df, normalization=False)\n",
        "        d2 = d_layer(d1, df*2)\n",
        "        d3 = d_layer(d2, df*4)\n",
        "        d4 = d_layer(d3, df*8)\n",
        "\n",
        "        validity = Conv2D(1, kernel_size=4, strides=1, padding='same')(d4)\n",
        "\n",
        "        return Model(img, validity)"
      ],
      "metadata": {
        "id": "Y7xA5_ymlzl2"
      },
      "execution_count": 54,
      "outputs": []
    },
    {
      "cell_type": "code",
      "source": [
        "def build_generator():\n",
        "        \"\"\"U-Net Generator\"\"\"\n",
        "        gf = 32\n",
        "        channels = 3\n",
        "        def conv2d(layer_input, filters, f_size=4):\n",
        "            \"\"\"Layers used during downsampling\"\"\"\n",
        "            d = Conv2D(filters, kernel_size=f_size, strides=2, padding='same')(layer_input)\n",
        "            d = LeakyReLU(alpha=0.2)(d)\n",
        "            d = LayerNormalization()(d)\n",
        "            return d\n",
        "\n",
        "        def deconv2d(layer_input, skip_input, filters, f_size=4, dropout_rate=0):\n",
        "            \"\"\"Layers used during upsampling\"\"\"\n",
        "            u = UpSampling2D(size=2)(layer_input)\n",
        "            u = Conv2D(filters, kernel_size=f_size, strides=1, padding='same', activation='relu')(u)\n",
        "            if dropout_rate:\n",
        "                u = Dropout(dropout_rate)(u)\n",
        "            u = LayerNormalization()(u)\n",
        "            u = Concatenate()([u, skip_input])\n",
        "            return u\n",
        "        img_shape = (128,128,3)\n",
        "        # Image input\n",
        "        d0 = Input(shape=img_shape)\n",
        "\n",
        "        # Downsampling\n",
        "        d1 = conv2d(d0, gf)\n",
        "        d2 = conv2d(d1, gf*2)\n",
        "        d3 = conv2d(d2, gf*4)\n",
        "        d4 = conv2d(d3, gf*8)\n",
        "\n",
        "        # Upsampling\n",
        "        u1 = deconv2d(d4, d3, gf*4)\n",
        "        u2 = deconv2d(u1, d2, gf*2)\n",
        "        u3 = deconv2d(u2, d1, gf)\n",
        "\n",
        "        u4 = UpSampling2D(size=2)(u3)\n",
        "        output_img = Conv2D(channels, kernel_size=4, strides=1, padding='same', activation='tanh')(u4)\n",
        "\n",
        "        return Model(d0, output_img)"
      ],
      "metadata": {
        "id": "nUzKHDOEg8_m"
      },
      "execution_count": 55,
      "outputs": []
    },
    {
      "cell_type": "code",
      "source": [
        "class CycleGAN():\n",
        "    def __init__(self):\n",
        "        # Input shape\n",
        "        self.img_rows = 128\n",
        "        self.img_cols = 128\n",
        "        self.channels = 3\n",
        "        self.img_shape = (self.img_rows, self.img_cols, self.channels)\n",
        "\n",
        "        # Configure data loader\n",
        "        self.data_dir = 'summer2winter_yosemite'\n",
        "        # Calculate output shape of D (PatchGAN)\n",
        "        patch = int(self.img_rows / 2**4)\n",
        "        self.disc_patch = (patch, patch, 1)\n",
        "\n",
        "        # Loss weights\n",
        "        self.lambda_cycle = 10.0                    # Cycle-consistency loss\n",
        "        self.lambda_id = 0.1 * self.lambda_cycle    # Identity loss\n",
        "\n",
        "        optimizer = Adam(0.0002, 0.5)\n",
        "\n",
        "        # Build and compile the discriminators\n",
        "        self.d_A = build_discriminator()\n",
        "        self.d_B = build_discriminator()\n",
        "        self.d_A.compile(loss='mse',\n",
        "            optimizer=optimizer,\n",
        "            metrics=['accuracy'])\n",
        "        self.d_B.compile(loss='mse',\n",
        "            optimizer=optimizer,\n",
        "            metrics=['accuracy'])\n",
        "\n",
        "        #-------------------------\n",
        "        # Construct Computational\n",
        "        #   Graph of Generators\n",
        "        #-------------------------\n",
        "\n",
        "        # Build the generators\n",
        "        self.g_AB = build_generator()\n",
        "        self.g_BA = build_generator()\n",
        "\n",
        "        # Input images from both domains\n",
        "        img_A = Input(shape=self.img_shape)\n",
        "        img_B = Input(shape=self.img_shape)\n",
        "\n",
        "        # Translate images to the other domain\n",
        "        fake_B = self.g_AB(img_A)\n",
        "        fake_A = self.g_BA(img_B)\n",
        "        # Translate images back to original domain\n",
        "        reconstr_A = self.g_BA(fake_B)\n",
        "        reconstr_B = self.g_AB(fake_A)\n",
        "        # Identity mapping of images\n",
        "        img_A_id = self.g_BA(img_A)\n",
        "        img_B_id = self.g_AB(img_B)\n",
        "\n",
        "        # For the combined model we will only train the generators\n",
        "        self.d_A.trainable = False\n",
        "        self.d_B.trainable = False\n",
        "\n",
        "        # Discriminators determines validity of translated images\n",
        "        valid_A = self.d_A(fake_A)\n",
        "        valid_B = self.d_B(fake_B)\n",
        "\n",
        "        # Combined model trains generators to fool discriminators\n",
        "        self.combined = Model(inputs=[img_A, img_B],\n",
        "                              outputs=[ valid_A, valid_B,\n",
        "                                        reconstr_A, reconstr_B,\n",
        "                                        img_A_id, img_B_id ])\n",
        "        self.combined.compile(loss=['mse', 'mse',\n",
        "                                    'mae', 'mae',\n",
        "                                    'mae', 'mae'],\n",
        "                            loss_weights=[  1, 1,\n",
        "                                            self.lambda_cycle, self.lambda_cycle,\n",
        "                                            self.lambda_id, self.lambda_id ],\n",
        "                            optimizer=optimizer)\n",
        "\n",
        "    def train(self, epochs, batch_size=1, sample_interval=50):\n",
        "\n",
        "        start_time = datetime.datetime.now()\n",
        "\n",
        "        # Adversarial loss ground truths\n",
        "        valid = np.ones((batch_size,) + self.disc_patch)\n",
        "        fake = np.zeros((batch_size,) + self.disc_patch)\n",
        "        for epoch in range(epochs):\n",
        "            for batch_i, (imgs_A, imgs_B) in enumerate(load_batch(self.data_dir,batch_size)):\n",
        "                # ----------------------\n",
        "                #  Train Discriminators\n",
        "                # ----------------------\n",
        "\n",
        "                # Translate images to opposite domain\n",
        "                fake_B = self.g_AB.predict(imgs_A)\n",
        "                fake_A = self.g_BA.predict(imgs_B)\n",
        "\n",
        "                # Train the discriminators (original images = real / translated = Fake)\n",
        "                dA_loss_real = self.d_A.train_on_batch(imgs_A, valid)\n",
        "                dA_loss_fake = self.d_A.train_on_batch(fake_A, fake)\n",
        "                dA_loss = 0.5 * np.add(dA_loss_real, dA_loss_fake)\n",
        "\n",
        "                dB_loss_real = self.d_B.train_on_batch(imgs_B, valid)\n",
        "                dB_loss_fake = self.d_B.train_on_batch(fake_B, fake)\n",
        "                dB_loss = 0.5 * np.add(dB_loss_real, dB_loss_fake)\n",
        "\n",
        "                # Total disciminator loss\n",
        "                d_loss = 0.5 * np.add(dA_loss, dB_loss)\n",
        "\n",
        "\n",
        "                # ------------------\n",
        "                #  Train Generators\n",
        "                # ------------------\n",
        "\n",
        "                # Train the generators\n",
        "                g_loss = self.combined.train_on_batch([imgs_A, imgs_B],\n",
        "                                                        [valid, valid,\n",
        "                                                        imgs_A, imgs_B,\n",
        "                                                        imgs_A, imgs_B])\n",
        "\n",
        "                elapsed_time = datetime.datetime.now() - start_time\n",
        "\n",
        "                # Plot the progress\n",
        "                print (\"[Epoch %d/%d] [D loss: %f, acc: %3d%%] [G loss: %05f, adv: %05f, recon: %05f, id: %05f] time: %s \"\n",
        "                                                                       % ( epoch, epochs,\n",
        "                                                                    \n",
        "                                                                            d_loss[0], 100*d_loss[1],\n",
        "                                                                            g_loss[0],\n",
        "                                                                            np.mean(g_loss[1:3]),\n",
        "                                                                            np.mean(g_loss[3:5]),\n",
        "                                                                            np.mean(g_loss[5:6]),\n",
        "                                                                            elapsed_time))\n",
        "\n",
        "                # If at save interval => save generated image samples\n",
        "                if batch_i % sample_interval == 0:\n",
        "                    self.sample_images(epoch, batch_i)\n",
        "\n",
        "    def sample_images(self, epoch, batch_i):\n",
        "        os.makedirs('images/%s' % self.data_dir, exist_ok=True)\n",
        "        r, c = 2, 3\n",
        "\n",
        "        imgs_A = load_data(self.data_dir, domain=\"A\", batch_size=1, is_testing=True)\n",
        "        imgs_B = load_data(self.data_dir, domain=\"B\", batch_size=1, is_testing=True)\n",
        "\n",
        "        # Demo (for GIF)\n",
        "        #imgs_A = self.data_loader.load_img('datasets/apple2orange/testA/n07740461_1541.jpg')\n",
        "        #imgs_B = self.data_loader.load_img('datasets/apple2orange/testB/n07749192_4241.jpg')\n",
        "\n",
        "        # Translate images to the other domain\n",
        "        fake_B = self.g_AB.predict(imgs_A)\n",
        "        fake_A = self.g_BA.predict(imgs_B)\n",
        "        # Translate back to original domain\n",
        "        reconstr_A = self.g_BA.predict(fake_B)\n",
        "        reconstr_B = self.g_AB.predict(fake_A)\n",
        "\n",
        "        gen_imgs = np.concatenate([imgs_A, fake_B, reconstr_A, imgs_B, fake_A, reconstr_B])\n",
        "\n",
        "        # Rescale images 0 - 1\n",
        "        gen_imgs = 0.5 * gen_imgs + 0.5\n",
        "\n",
        "        titles = ['Original', 'Translated', 'Reconstructed']\n",
        "        fig, axs = plt.subplots(r, c)\n",
        "        cnt = 0\n",
        "        for i in range(r):\n",
        "            for j in range(c):\n",
        "                axs[i,j].imshow(gen_imgs[cnt])\n",
        "                axs[i, j].set_title(titles[j])\n",
        "                axs[i,j].axis('off')\n",
        "                cnt += 1\n",
        "        fig.savefig(\"images/%s/%d_%d.png\" % (self.data_dir, epoch, batch_i))\n",
        "        plt.close()"
      ],
      "metadata": {
        "id": "kXjIdl69njVV"
      },
      "execution_count": 56,
      "outputs": []
    },
    {
      "cell_type": "code",
      "source": [
        "gan = CycleGAN()"
      ],
      "metadata": {
        "id": "PoGwlgN2RVLE"
      },
      "execution_count": 58,
      "outputs": []
    },
    {
      "cell_type": "code",
      "source": [
        "gan.train(epochs=1, batch_size=64, sample_interval=200)"
      ],
      "metadata": {
        "id": "nGndVnZ7XVID",
        "colab": {
          "base_uri": "https://localhost:8080/"
        },
        "outputId": "b28915f7-cb31-4c88-a0fb-8276e1e2148b"
      },
      "execution_count": 61,
      "outputs": [
        {
          "output_type": "stream",
          "name": "stdout",
          "text": [
            "2/2 [==============================] - 0s 64ms/step\n",
            "2/2 [==============================] - 0s 56ms/step\n",
            "[Epoch 0/1] [D loss: 0.495799, acc:  53%] [G loss: 13.706840, adv: 0.901396, recon: 0.532270, id: 0.638069] time: 0:00:02.845821 \n",
            "1/1 [==============================] - 0s 22ms/step\n",
            "1/1 [==============================] - 0s 21ms/step\n",
            "1/1 [==============================] - 0s 21ms/step\n",
            "1/1 [==============================] - 0s 22ms/step\n",
            "2/2 [==============================] - 0s 35ms/step\n",
            "2/2 [==============================] - 0s 31ms/step\n",
            "[Epoch 0/1] [D loss: 0.432235, acc:  56%] [G loss: 13.969219, adv: 0.786765, recon: 0.557389, id: 0.594420] time: 0:00:06.712230 \n",
            "2/2 [==============================] - 0s 33ms/step\n",
            "2/2 [==============================] - 0s 35ms/step\n",
            "[Epoch 0/1] [D loss: 0.409222, acc:  52%] [G loss: 12.994154, adv: 0.807697, recon: 0.511129, id: 0.530496] time: 0:00:09.430221 \n",
            "2/2 [==============================] - 0s 34ms/step\n",
            "2/2 [==============================] - 0s 35ms/step\n",
            "[Epoch 0/1] [D loss: 0.409441, acc:  54%] [G loss: 12.748266, adv: 0.833375, recon: 0.496452, id: 0.541050] time: 0:00:12.208774 \n",
            "2/2 [==============================] - 0s 34ms/step\n",
            "2/2 [==============================] - 0s 34ms/step\n",
            "[Epoch 0/1] [D loss: 0.377452, acc:  55%] [G loss: 12.601738, adv: 0.819233, recon: 0.488743, id: 0.591999] time: 0:00:14.954661 \n",
            "2/2 [==============================] - 0s 34ms/step\n",
            "2/2 [==============================] - 0s 35ms/step\n",
            "[Epoch 0/1] [D loss: 0.322129, acc:  65%] [G loss: 12.272699, adv: 0.967345, recon: 0.457180, id: 0.580169] time: 0:00:18.736880 \n",
            "2/2 [==============================] - 0s 34ms/step\n",
            "2/2 [==============================] - 0s 34ms/step\n",
            "[Epoch 0/1] [D loss: 0.329408, acc:  62%] [G loss: 11.399852, adv: 0.897283, recon: 0.424652, id: 0.514697] time: 0:00:21.484901 \n",
            "2/2 [==============================] - 0s 35ms/step\n",
            "2/2 [==============================] - 0s 35ms/step\n",
            "[Epoch 0/1] [D loss: 0.319090, acc:  62%] [G loss: 11.260750, adv: 1.036484, recon: 0.404894, id: 0.538476] time: 0:00:24.195009 \n",
            "2/2 [==============================] - 0s 35ms/step\n",
            "2/2 [==============================] - 0s 34ms/step\n",
            "[Epoch 0/1] [D loss: 0.385167, acc:  59%] [G loss: 10.086300, adv: 0.824005, recon: 0.369536, id: 0.493870] time: 0:00:27.044976 \n",
            "2/2 [==============================] - 0s 34ms/step\n",
            "2/2 [==============================] - 0s 40ms/step\n",
            "[Epoch 0/1] [D loss: 0.340372, acc:  66%] [G loss: 10.826722, adv: 1.245661, recon: 0.363526, id: 0.511098] time: 0:00:29.922131 \n",
            "2/2 [==============================] - 0s 34ms/step\n",
            "2/2 [==============================] - 0s 33ms/step\n",
            "[Epoch 0/1] [D loss: 0.490185, acc:  59%] [G loss: 9.494076, adv: 0.752301, recon: 0.347556, id: 0.507143] time: 0:00:32.842400 \n",
            "2/2 [==============================] - 0s 35ms/step\n",
            "2/2 [==============================] - 0s 35ms/step\n",
            "[Epoch 0/1] [D loss: 0.488075, acc:  61%] [G loss: 10.816204, adv: 1.573209, recon: 0.333664, id: 0.481988] time: 0:00:35.534690 \n",
            "2/2 [==============================] - 0s 34ms/step\n",
            "2/2 [==============================] - 0s 35ms/step\n",
            "[Epoch 0/1] [D loss: 0.556227, acc:  57%] [G loss: 9.248634, adv: 0.659266, recon: 0.346172, id: 0.481240] time: 0:00:38.203158 \n",
            "2/2 [==============================] - 0s 35ms/step\n",
            "2/2 [==============================] - 0s 35ms/step\n",
            "[Epoch 0/1] [D loss: 0.411070, acc:  56%] [G loss: 10.615887, adv: 1.435104, recon: 0.339500, id: 0.466738] time: 0:00:41.958768 \n"
          ]
        }
      ]
    },
    {
      "cell_type": "code",
      "source": [
        "gan.sample_images(100,64)"
      ],
      "metadata": {
        "id": "9vxD5D0nXlxF",
        "colab": {
          "base_uri": "https://localhost:8080/"
        },
        "outputId": "db53e153-6ffe-4ce6-ace3-5d2140290473"
      },
      "execution_count": 62,
      "outputs": [
        {
          "output_type": "stream",
          "name": "stdout",
          "text": [
            "1/1 [==============================] - 0s 22ms/step\n",
            "1/1 [==============================] - 0s 21ms/step\n",
            "1/1 [==============================] - 0s 24ms/step\n",
            "1/1 [==============================] - 0s 21ms/step\n"
          ]
        }
      ]
    },
    {
      "cell_type": "code",
      "source": [],
      "metadata": {
        "id": "fWKIoJlfp5v3"
      },
      "execution_count": null,
      "outputs": []
    }
  ]
}